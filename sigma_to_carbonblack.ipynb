{
 "cells": [
  {
   "cell_type": "markdown",
   "metadata": {},
   "source": [
    "# Sigma Rules to VMware Carbon Black Searches\n",
    "\n",
    "**Notebook Version:** 0.1<br>\n",
    "**Python Version:** Python 3.6<br>\n",
    "**Required Packages:**\n",
    "- sigmatools (https://pypi.org/project/sigmatools/)\n",
    "\n",
    "**Recommended Reading:**\n",
    "- https://github.com/Neo23x0/sigma\n",
    "\n",
    "This notebook guides you through the basic steps of converting a Sigma rule to a Carbon Black Investigate Search"
   ]
  },
  {
   "cell_type": "markdown",
   "metadata": {},
   "source": [
    "## Instructions\n",
    "### Download Sigma\n",
    "\n",
    "From the cb-notebook director run:\n",
    "\n",
    "```git clone https://github.com/Neo23x0/sigma```\n",
    "\n",
    "### Install Sigma Tools\n",
    "```pip install sigmatools```\n",
    "\n",
    "\n",
    "> **Note:** ```pip intall sigmatools``` adds the **sigmac** tool to PATH. If you prefer not to have **sigmac** added to PATH you can access Sigma Tools from the ```sigma/tools``` directory.\n",
    "\n",
    "### Convert Sigma Rule to a VMWare Carbon Black Search\n",
    "\n",
    "**Option 1** <br>\n",
    "Run the following command to convert the [Abusing Azure Browswer SSO rule](https://github.com/Neo23x0/sigma/blob/master/rules/windows/sysmon/sysmon_abusing_azure_browser_sso.yml) to a Carbon Black search query.\n",
    "\n",
    "```sigmac -t carbonblack -c sigma/tools/config/carbon-black.yml sigma/rules/windows/sysmon/sysmon_abusing_azure_browser_sso.yml```\n",
    "\n",
    "**Results:**\n",
    "\n",
    "```((modload_count:[1 to *] AND modload:MicrosoftAccountTokenProvider.dll) AND ( -(path:BackgroundTaskHost.exe OR path:devenv.exe OR path:iexplore.exe OR path:MicrosoftEdge.exe)))```"
   ]
  },
  {
   "cell_type": "markdown",
   "metadata": {},
   "source": [
    "**Option 2**<br>\n",
    "Run the next cell directly from this Notebook!"
   ]
  },
  {
   "cell_type": "code",
   "execution_count": null,
   "metadata": {},
   "outputs": [],
   "source": [
    "!sigmac -t carbonblack -c sigma/tools/config/carbon-black.yml sigma/rules/windows/sysmon/sysmon_abusing_azure_browser_sso.yml"
   ]
  }
 ],
 "metadata": {
  "kernelspec": {
   "display_name": "Python 3",
   "language": "python",
   "name": "python3"
  },
  "language_info": {
   "codemirror_mode": {
    "name": "ipython",
    "version": 3
   },
   "file_extension": ".py",
   "mimetype": "text/x-python",
   "name": "python",
   "nbconvert_exporter": "python",
   "pygments_lexer": "ipython3",
   "version": "3.8.5"
  }
 },
 "nbformat": 4,
 "nbformat_minor": 4
}